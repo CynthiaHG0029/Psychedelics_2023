{
 "cells": [
  {
   "cell_type": "code",
   "execution_count": 10,
   "metadata": {},
   "outputs": [
    {
     "name": "stderr",
     "output_type": "stream",
     "text": [
      "[nltk_data] Downloading package punkt to\n",
      "[nltk_data]     C:\\Users\\cynhe\\AppData\\Roaming\\nltk_data...\n",
      "[nltk_data]   Package punkt is already up-to-date!\n"
     ]
    }
   ],
   "source": [
    "import os\n",
    "import re\n",
    "import pandas as pd\n",
    "\n",
    "import nltk\n",
    "nltk.download(\"punkt\")\n",
    "from nltk.corpus import stopwords\n",
    "from nltk.tokenize import word_tokenize\n",
    "\n",
    "import string\n",
    "\n",
    "from collections import Counter\n",
    "\n"
   ]
  },
  {
   "cell_type": "code",
   "execution_count": 16,
   "metadata": {},
   "outputs": [
    {
     "data": {
      "text/plain": [
       "['Unnamed: 0', 'Lab', 'Study explanation', 'Study title', 'Phase']"
      ]
     },
     "execution_count": 16,
     "metadata": {},
     "output_type": "execute_result"
    }
   ],
   "source": [
    "data = pd.read_csv('./final_tracking.csv')\n",
    "data.columns.to_list()"
   ]
  },
  {
   "cell_type": "code",
   "execution_count": 12,
   "metadata": {},
   "outputs": [],
   "source": [
    "#data_p = data.rename(columns={'General Subject Matter':'general_subject'})"
   ]
  },
  {
   "cell_type": "code",
   "execution_count": 17,
   "metadata": {},
   "outputs": [
    {
     "data": {
      "text/plain": [
       "['Unnamed: 0', 'Lab', 'Study explanation', 'Study title', 'Phase']"
      ]
     },
     "execution_count": 17,
     "metadata": {},
     "output_type": "execute_result"
    }
   ],
   "source": [
    "data.columns.to_list()"
   ]
  },
  {
   "cell_type": "code",
   "execution_count": 18,
   "metadata": {},
   "outputs": [],
   "source": [
    "def tokenizer(text):\n",
    "    stop_words = set(stopwords.words('english'))\n",
    "    punct = string.punctuation+\"¿?¡\"\n",
    "    tokens = word_tokenize(text)\n",
    "#    palabraLower = \n",
    "    filtered_tokens = [word.lower() for word in tokens if not word.lower() in stop_words and word.lower() not in punct]\n",
    "    \n",
    "    #Roberto dice que este word.lower no está my bien porque se repite mucho, es mejor hacer una variable anterior para anidarla\n",
    "    return filtered_tokens"
   ]
  },
  {
   "cell_type": "code",
   "execution_count": 20,
   "metadata": {},
   "outputs": [
    {
     "name": "stdout",
     "output_type": "stream",
     "text": [
      "<class 'pandas.core.frame.DataFrame'>\n",
      "RangeIndex: 88 entries, 0 to 87\n",
      "Data columns (total 5 columns):\n",
      " #   Column             Non-Null Count  Dtype \n",
      "---  ------             --------------  ----- \n",
      " 0   Unnamed: 0         88 non-null     int64 \n",
      " 1   Lab                88 non-null     object\n",
      " 2   Study explanation  88 non-null     object\n",
      " 3   Study title        50 non-null     object\n",
      " 4   Phase              50 non-null     object\n",
      "dtypes: int64(1), object(4)\n",
      "memory usage: 3.6+ KB\n"
     ]
    }
   ],
   "source": [
    "data.info()"
   ]
  },
  {
   "cell_type": "code",
   "execution_count": 21,
   "metadata": {},
   "outputs": [],
   "source": [
    "data['tokenized_text'] = data['Study explanation'].apply(tokenizer)"
   ]
  },
  {
   "cell_type": "code",
   "execution_count": null,
   "metadata": {},
   "outputs": [],
   "source": [
    "#data_p['tokens'] = data_p['general_subject'].apply(lambda x: nltk.word_tokenize(x))"
   ]
  },
  {
   "cell_type": "code",
   "execution_count": 23,
   "metadata": {},
   "outputs": [
    {
     "data": {
      "text/html": [
       "<div>\n",
       "<style scoped>\n",
       "    .dataframe tbody tr th:only-of-type {\n",
       "        vertical-align: middle;\n",
       "    }\n",
       "\n",
       "    .dataframe tbody tr th {\n",
       "        vertical-align: top;\n",
       "    }\n",
       "\n",
       "    .dataframe thead th {\n",
       "        text-align: right;\n",
       "    }\n",
       "</style>\n",
       "<table border=\"1\" class=\"dataframe\">\n",
       "  <thead>\n",
       "    <tr style=\"text-align: right;\">\n",
       "      <th></th>\n",
       "      <th>Unnamed: 0</th>\n",
       "      <th>Lab</th>\n",
       "      <th>Study explanation</th>\n",
       "      <th>Study title</th>\n",
       "      <th>Phase</th>\n",
       "      <th>tokenized_text</th>\n",
       "    </tr>\n",
       "  </thead>\n",
       "  <tbody>\n",
       "    <tr>\n",
       "      <th>0</th>\n",
       "      <td>0</td>\n",
       "      <td>MAPS PBC</td>\n",
       "      <td>MAPS has completed conducting two Phase 3 tria...</td>\n",
       "      <td>Post-traumatic stress disorder (PTSD)  |  MDMA</td>\n",
       "      <td>Phase 3</td>\n",
       "      <td>[maps, completed, conducting, two, phase, 3, t...</td>\n",
       "    </tr>\n",
       "    <tr>\n",
       "      <th>1</th>\n",
       "      <td>1</td>\n",
       "      <td>Compass Pathways</td>\n",
       "      <td>COMP360 is a psilocybin formulation currently ...</td>\n",
       "      <td>Treatment-resistant depression (TRD)  |  COMP3...</td>\n",
       "      <td>Phase 3</td>\n",
       "      <td>[comp360, psilocybin, formulation, currently, ...</td>\n",
       "    </tr>\n",
       "    <tr>\n",
       "      <th>2</th>\n",
       "      <td>2</td>\n",
       "      <td>Awakn Life Sciences</td>\n",
       "      <td>Awakn is set to evaluate ketamine-assisted psy...</td>\n",
       "      <td>Alcohol use disorder (AUD)  |  Ketamine</td>\n",
       "      <td>Phase 3</td>\n",
       "      <td>[awakn, set, evaluate, ketamine-assisted, psyc...</td>\n",
       "    </tr>\n",
       "    <tr>\n",
       "      <th>3</th>\n",
       "      <td>3</td>\n",
       "      <td>GH Research</td>\n",
       "      <td>GH001 is an inhaled formulation of 5-MeO-DMT, ...</td>\n",
       "      <td>Treatment-resistant depression (TRD)| GH001 (5...</td>\n",
       "      <td>Phase 2b</td>\n",
       "      <td>[gh001, inhaled, formulation, 5-meo-dmt, short...</td>\n",
       "    </tr>\n",
       "    <tr>\n",
       "      <th>4</th>\n",
       "      <td>4</td>\n",
       "      <td>MindMed</td>\n",
       "      <td>MM-120 is a formulation of LSD being evaluated...</td>\n",
       "      <td>Generalized Anxiety Disorder (GAD)  | MM-120 (...</td>\n",
       "      <td>Phase 2b</td>\n",
       "      <td>[mm-120, formulation, lsd, evaluated, phase, 2...</td>\n",
       "    </tr>\n",
       "    <tr>\n",
       "      <th>...</th>\n",
       "      <td>...</td>\n",
       "      <td>...</td>\n",
       "      <td>...</td>\n",
       "      <td>...</td>\n",
       "      <td>...</td>\n",
       "      <td>...</td>\n",
       "    </tr>\n",
       "    <tr>\n",
       "      <th>83</th>\n",
       "      <td>83</td>\n",
       "      <td>PSYLO</td>\n",
       "      <td>Psylo is currently in the discovery stages of ...</td>\n",
       "      <td>NaN</td>\n",
       "      <td>NaN</td>\n",
       "      <td>[psylo, currently, discovery, stages, developm...</td>\n",
       "    </tr>\n",
       "    <tr>\n",
       "      <th>84</th>\n",
       "      <td>84</td>\n",
       "      <td>Mindstate Design</td>\n",
       "      <td>MSD-101, MSD-102, MSD-103, MSD-104, MSD-105 Di...</td>\n",
       "      <td>NaN</td>\n",
       "      <td>NaN</td>\n",
       "      <td>[msd-101, msd-102, msd-103, msd-104, msd-105, ...</td>\n",
       "    </tr>\n",
       "    <tr>\n",
       "      <th>85</th>\n",
       "      <td>85</td>\n",
       "      <td>Lusaris Therapeutics</td>\n",
       "      <td>Lusaris is developing a portfolio of new compo...</td>\n",
       "      <td>NaN</td>\n",
       "      <td>NaN</td>\n",
       "      <td>[lusaris, developing, portfolio, new, compound...</td>\n",
       "    </tr>\n",
       "    <tr>\n",
       "      <th>86</th>\n",
       "      <td>86</td>\n",
       "      <td>Beckley Psytech</td>\n",
       "      <td>NCE discovery program.</td>\n",
       "      <td>NaN</td>\n",
       "      <td>NaN</td>\n",
       "      <td>[nce, discovery, program]</td>\n",
       "    </tr>\n",
       "    <tr>\n",
       "      <th>87</th>\n",
       "      <td>87</td>\n",
       "      <td>Onsero</td>\n",
       "      <td>Onsero is developing a portfolio of unknown 5-...</td>\n",
       "      <td>NaN</td>\n",
       "      <td>NaN</td>\n",
       "      <td>[onsero, developing, portfolio, unknown, 5-ht2...</td>\n",
       "    </tr>\n",
       "  </tbody>\n",
       "</table>\n",
       "<p>88 rows × 6 columns</p>\n",
       "</div>"
      ],
      "text/plain": [
       "    Unnamed: 0                    Lab  \\\n",
       "0            0               MAPS PBC   \n",
       "1            1      Compass Pathways    \n",
       "2            2    Awakn Life Sciences   \n",
       "3            3            GH Research   \n",
       "4            4               MindMed    \n",
       "..         ...                    ...   \n",
       "83          83                 PSYLO    \n",
       "84          84       Mindstate Design   \n",
       "85          85  Lusaris Therapeutics    \n",
       "86          86       Beckley Psytech    \n",
       "87          87                Onsero    \n",
       "\n",
       "                                    Study explanation  \\\n",
       "0   MAPS has completed conducting two Phase 3 tria...   \n",
       "1   COMP360 is a psilocybin formulation currently ...   \n",
       "2   Awakn is set to evaluate ketamine-assisted psy...   \n",
       "3   GH001 is an inhaled formulation of 5-MeO-DMT, ...   \n",
       "4   MM-120 is a formulation of LSD being evaluated...   \n",
       "..                                                ...   \n",
       "83  Psylo is currently in the discovery stages of ...   \n",
       "84  MSD-101, MSD-102, MSD-103, MSD-104, MSD-105 Di...   \n",
       "85  Lusaris is developing a portfolio of new compo...   \n",
       "86                             NCE discovery program.   \n",
       "87  Onsero is developing a portfolio of unknown 5-...   \n",
       "\n",
       "                                          Study title      Phase  \\\n",
       "0      Post-traumatic stress disorder (PTSD)  |  MDMA    Phase 3   \n",
       "1   Treatment-resistant depression (TRD)  |  COMP3...    Phase 3   \n",
       "2             Alcohol use disorder (AUD)  |  Ketamine    Phase 3   \n",
       "3   Treatment-resistant depression (TRD)| GH001 (5...   Phase 2b   \n",
       "4   Generalized Anxiety Disorder (GAD)  | MM-120 (...   Phase 2b   \n",
       "..                                                ...        ...   \n",
       "83                                                NaN        NaN   \n",
       "84                                                NaN        NaN   \n",
       "85                                                NaN        NaN   \n",
       "86                                                NaN        NaN   \n",
       "87                                                NaN        NaN   \n",
       "\n",
       "                                       tokenized_text  \n",
       "0   [maps, completed, conducting, two, phase, 3, t...  \n",
       "1   [comp360, psilocybin, formulation, currently, ...  \n",
       "2   [awakn, set, evaluate, ketamine-assisted, psyc...  \n",
       "3   [gh001, inhaled, formulation, 5-meo-dmt, short...  \n",
       "4   [mm-120, formulation, lsd, evaluated, phase, 2...  \n",
       "..                                                ...  \n",
       "83  [psylo, currently, discovery, stages, developm...  \n",
       "84  [msd-101, msd-102, msd-103, msd-104, msd-105, ...  \n",
       "85  [lusaris, developing, portfolio, new, compound...  \n",
       "86                          [nce, discovery, program]  \n",
       "87  [onsero, developing, portfolio, unknown, 5-ht2...  \n",
       "\n",
       "[88 rows x 6 columns]"
      ]
     },
     "execution_count": 23,
     "metadata": {},
     "output_type": "execute_result"
    }
   ],
   "source": [
    "data"
   ]
  },
  {
   "cell_type": "code",
   "execution_count": 24,
   "metadata": {},
   "outputs": [
    {
     "name": "stdout",
     "output_type": "stream",
     "text": [
      "Palabras:   [('trial', 79), ('phase', 63), ('potential', 42), ('study', 41), ('evaluated', 41), ('treatment', 37), ('currently', 34), ('clinical', 34), ('details', 34), ('found', 33), ('disorder', 32), ('registration', 32), ('link', 31), ('use', 30), ('formulation', 29), ('preclinical', 26), ('development', 21), ('2', 20), ('psilocybin', 18), ('depression', 18), ('unknown', 14), ('compounds', 14), ('stage', 14), ('1', 12), ('treatment-resistant', 11), ('set', 11), ('drug', 11), ('therapy', 10), ('major', 10), ('depressive', 10), ('intended', 10), ('including', 10), ('synthetic', 9), ('gh001', 8), ('5-meo-dmt', 8)]\n"
     ]
    }
   ],
   "source": [
    "palabras = [word for sentence in data.tokenized_text.to_list() for word in sentence]\n",
    "\n",
    "r = Counter(palabras)\n",
    "print (\"Palabras:  \", r.most_common(35))"
   ]
  },
  {
   "attachments": {},
   "cell_type": "markdown",
   "metadata": {},
   "source": [
    "INICIA NLTK"
   ]
  },
  {
   "cell_type": "code",
   "execution_count": 25,
   "metadata": {},
   "outputs": [],
   "source": [
    "import gensim"
   ]
  },
  {
   "cell_type": "code",
   "execution_count": 26,
   "metadata": {},
   "outputs": [],
   "source": [
    "tokens_solos = data['tokenized_text'].tolist()\n",
    "dictionary = gensim.corpora.Dictionary(tokens_solos)"
   ]
  },
  {
   "cell_type": "code",
   "execution_count": 27,
   "metadata": {},
   "outputs": [
    {
     "data": {
      "text/plain": [
       "<gensim.corpora.dictionary.Dictionary at 0x1366dafbc70>"
      ]
     },
     "execution_count": 27,
     "metadata": {},
     "output_type": "execute_result"
    }
   ],
   "source": [
    "dictionary"
   ]
  },
  {
   "cell_type": "code",
   "execution_count": 28,
   "metadata": {},
   "outputs": [],
   "source": [
    "dictionary.filter_extremes(no_below=4, no_above=0.8, keep_n=100000)"
   ]
  },
  {
   "cell_type": "code",
   "execution_count": 29,
   "metadata": {},
   "outputs": [],
   "source": [
    "doc_term_matrix = [dictionary.doc2bow(rev) for rev in tokens_solos]"
   ]
  },
  {
   "cell_type": "code",
   "execution_count": 30,
   "metadata": {},
   "outputs": [],
   "source": [
    "LDA = gensim.models.ldamodel.LdaModel\n",
    "lda_model = LDA(corpus=doc_term_matrix, id2word=dictionary, num_topics=5, random_state=100, chunksize=1000, passes=50, iterations=100)"
   ]
  },
  {
   "cell_type": "code",
   "execution_count": 31,
   "metadata": {},
   "outputs": [],
   "source": [
    "import pyLDAvis\n",
    "import pyLDAvis.gensim_models as gensimvis\n",
    "pyLDAvis.enable_notebook()"
   ]
  },
  {
   "cell_type": "code",
   "execution_count": 32,
   "metadata": {},
   "outputs": [
    {
     "name": "stderr",
     "output_type": "stream",
     "text": [
      "c:\\Users\\cynhe\\anaconda3\\lib\\site-packages\\pyLDAvis\\_prepare.py:243: FutureWarning: In a future version of pandas all arguments of DataFrame.drop except for the argument 'labels' will be keyword-only.\n",
      "  default_term_info = default_term_info.sort_values(\n"
     ]
    },
    {
     "data": {
      "text/html": [
       "\n",
       "<link rel=\"stylesheet\" type=\"text/css\" href=\"https://cdn.jsdelivr.net/gh/bmabey/pyLDAvis@3.4.0/pyLDAvis/js/ldavis.v1.0.0.css\">\n",
       "\n",
       "\n",
       "<div id=\"ldavis_el2904813333011131209308958912\" style=\"background-color:white;\"></div>\n",
       "<script type=\"text/javascript\">\n",
       "\n",
       "var ldavis_el2904813333011131209308958912_data = {\"mdsDat\": {\"x\": [-0.22239836587590997, -0.08009224879252147, 0.17751000033220762, 0.011145251109949048, 0.11383536322627454], \"y\": [0.008634148136433125, 0.03850341436132901, -0.07061656251265666, -0.14477003396410495, 0.1682490339789995], \"topics\": [1, 2, 3, 4, 5], \"cluster\": [1, 1, 1, 1, 1], \"Freq\": [57.00158720372839, 12.433127653242243, 12.07620145929095, 10.858785312874524, 7.630298370863894]}, \"tinfo\": {\"Term\": [\"use\", \"formulation\", \"evaluated\", \"development\", \"preclinical\", \"unknown\", \"stage\", \"depression\", \"currently\", \"drug\", \"5-ht2a\", \"treatment-resistant\", \"compounds\", \"psilocybin\", \"intended\", \"phase\", \"number\", \"known\", \"treatment\", \"stages\", \"program\", \"non-hallucinogenic\", \"1\", \"developing\", \"including\", \"trial\", \"pharma\", \"potential\", \"agonist\", \"lsd\", \"clinical\", \"found\", \"registration\", \"link\", \"2\", \"trial\", \"details\", \"evaluating\", \"ii\", \"psilocybin-assisted\", \"2b\", \"developed\", \"inhaled\", \"study\", \"therapy\", \"disorder\", \"depressive\", \"major\", \"phase\", \"intranasal\", \"set\", \"alcohol\", \"ketamine\", \"psychotherapy\", \"one\", \"use\", \"potential\", \"opioid\", \"evaluated\", \"treatment-resistant\", \"treatment\", \"formulation\", \"depression\", \"5-meo-dmt\", \"currently\", \"synthetic\", \"psilocybin\", \"1\", \"iv\", \"deuterated\", \"dmt\", \"ptsd\", \"1\", \"formulation\", \"short-acting\", \"5-meo-dmt\", \"stress\", \"post-traumatic\", \"psilocybin\", \"analog\", \"evaluated\", \"stage\", \"psychedelic\", \"unknown\", \"set\", \"currently\", \"intended\", \"molecule\", \"ketamine\", \"intranasal\", \"preclinical\", \"treatment\", \"depressive\", \"major\", \"alcohol\", \"depression\", \"potential\", \"synthetic\", \"including\", \"disorder\", \"phase\", \"study\", \"trial\", \"development\", \"number\", \"stages\", \"pharma\", \"anxiety\", \"pharmaceuticals\", \"development\", \"developing\", \"discovery\", \"including\", \"compounds\", \"form\", \"2022\", \"results\", \"befound\", \"programs\", \"preclinical\", \"research\", \"psilocybin\", \"synthetic\", \"acquired\", \"dmt\", \"psychedelic\", \"portfolio\", \"disorders\", \"3\", \"currently\", \"unknown\", \"completed\", \"5-ht2a\", \"treatment\", \"potential\", \"details\", \"trial\", \"known\", \"program\", \"non-hallucinogenic\", \"commonly\", \"bol-148\", \"2-bromo-lsd\", \"drug\", \"research\", \"analog\", \"lsd\", \"fda\", \"3\", \"2022\", \"completed\", \"opioid\", \"discovery\", \"one\", \"compounds\", \"portfolio\", \"stress\", \"post-traumatic\", \"psychotherapy\", \"preclinical\", \"stage\", \"alcohol\", \"potential\", \"currently\", \"therapy\", \"treatment\", \"development\", \"phase\", \"evaluated\", \"disorder\", \"study\", \"use\", \"agonist\", \"5-ht2a\", \"molecule\", \"unknown\", \"stage\", \"portfolio\", \"intended\", \"disorders\", \"treatment-resistant\", \"use\", \"depression\", \"developing\", \"preclinical\", \"compounds\", \"including\", \"currently\", \"post-traumatic\", \"stress\", \"ptsd\", \"pharmaceuticals\", \"2022\", \"deuterated\", \"2-bromo-lsd\", \"bol-148\", \"commonly\", \"befound\", \"acquired\", \"ketamine\", \"psychotherapy\", \"inhaled\", \"potential\", \"study\", \"phase\", \"anxiety\", \"5-meo-dmt\", \"number\", \"opioid\", \"development\", \"disorder\", \"evaluated\", \"formulation\"], \"Freq\": [28.0, 27.0, 39.0, 19.0, 24.0, 13.0, 13.0, 17.0, 32.0, 11.0, 8.0, 11.0, 13.0, 17.0, 10.0, 60.0, 8.0, 7.0, 35.0, 7.0, 6.0, 6.0, 12.0, 8.0, 9.0, 75.0, 6.0, 40.0, 4.0, 7.0, 32.298196240757036, 31.353998562478235, 30.409476512838477, 29.465451674773913, 19.077907514201172, 69.43702655161991, 30.32329317313746, 7.744307051128062, 5.854336007411921, 4.910826730397356, 4.901309272162105, 4.86213521518118, 3.965466820061532, 33.20013330281816, 8.505330801266775, 25.089637029579155, 8.204958777585606, 8.204958777585606, 46.9130486035466, 3.9662037586462007, 7.74076915400311, 4.901731310082481, 3.0156837984213416, 3.020019305781507, 3.5577693101996744, 18.188528595925057, 25.10963440559879, 3.461996002242026, 24.126407986341107, 6.791936161622673, 21.229866439911728, 14.975919121838878, 9.894167625607569, 4.908974321320471, 10.16749844262046, 5.166993685450698, 6.336524690016591, 5.254714237605032, 4.7565759670851095, 3.84476874797894, 4.707451153155284, 2.5929182272190126, 5.779416121129188, 12.397177147763168, 2.015797849498525, 2.9244612726268784, 1.5620681716363833, 1.5620602960078558, 5.692166035040626, 2.0106457682461736, 11.35001808569521, 3.8719301123579575, 2.0156004423506775, 3.610831078195437, 2.9305474550660677, 8.2169314133725, 2.4551001505501096, 1.0960398606220931, 1.1001220183726719, 1.0990901819268935, 4.253272951793063, 6.112955961140458, 1.5662729826181296, 1.5662729826181296, 1.0980145776438877, 2.339698178409355, 5.133847493897445, 1.0979795891958388, 1.1781002948369674, 3.445938656387313, 6.088566301568495, 2.9116655711168407, 3.478366363186664, 1.3288418905936508, 7.314340322282264, 6.427674149522254, 5.526927309990232, 4.621202502553773, 3.749708246986584, 13.877458939111655, 5.532809177346885, 4.646183133308394, 5.913174781964308, 7.60617996079261, 2.75753864926283, 1.9445755198920374, 2.6477868467127665, 1.8791524111770002, 2.2215460876547777, 9.449492282160664, 1.963183082658161, 5.063412987949283, 2.615693400068896, 1.3079352340262993, 2.0123855351239293, 1.9634415367051947, 1.0650818544945369, 1.050347653871911, 1.0715299130313727, 5.667518787441205, 2.162190441633419, 0.9319740701012276, 1.1358349352430859, 3.642200392382964, 3.1238842817995387, 2.0411135614571547, 2.034357640384915, 6.666862384889682, 5.742910758765371, 5.740425521639051, 3.8892531226224505, 3.8892531226224505, 3.8892531226224505, 7.606843564958141, 3.891604400506208, 3.891066308329856, 3.8970006576712315, 2.7065732017674238, 2.6481710313813656, 2.041657480486378, 2.4675166188383924, 1.6047781647481432, 2.0340734478801177, 1.504712753000106, 3.4151330246916665, 1.1123071164703286, 1.1132096499530444, 1.1132096499530444, 1.1128241224696105, 4.7184815819775645, 2.212937677817944, 1.113491776236622, 5.376530426193338, 4.19250392177377, 1.2900942599730094, 4.229095993930579, 2.2034633314555307, 5.694670998123977, 3.3841331871102964, 2.093753643565164, 2.07951833159715, 1.3996200358056166, 3.8355285788047357, 6.511371351763012, 2.9241960109606864, 7.5222590856512435, 7.286704502644142, 2.0156529870208817, 4.3281085011955955, 1.953822824825853, 3.8389946302887803, 8.425363267556305, 5.085071832762971, 2.009413397082478, 5.9170747352444675, 2.1862327331050206, 1.5618221003322241, 4.007358651617528, 0.21185710803262095, 0.21185257183457182, 0.20178567869237593, 0.18273374592961622, 0.18275359427217183, 0.1830327586350824, 0.1840777481192933, 0.1840777283105682, 0.1840777085018431, 0.18274773088954063, 0.18274941463117458, 0.18275296039296846, 0.1827424419599375, 0.18273713322160923, 1.3736842172542498, 1.1166050773731053, 1.166656575445954, 0.1890104970363179, 0.19018848230088653, 0.18792111619914575, 0.18447303122877182, 0.19179098835318925, 0.18998524478130502, 0.18645988597429483, 0.18436008187822076], \"Total\": [28.0, 27.0, 39.0, 19.0, 24.0, 13.0, 13.0, 17.0, 32.0, 11.0, 8.0, 11.0, 13.0, 17.0, 10.0, 60.0, 8.0, 7.0, 35.0, 7.0, 6.0, 6.0, 12.0, 8.0, 9.0, 75.0, 6.0, 40.0, 4.0, 7.0, 33.030081962836505, 32.085625988455654, 31.141161484333242, 30.196716088526227, 19.807699112453893, 75.31953122667773, 32.92218389755311, 8.4741611103526, 6.585201730674097, 5.640770200961114, 5.640448126087574, 5.63919968725017, 4.69628506036467, 39.48675238774116, 10.341370135587313, 31.000599522337204, 10.319376671143731, 10.319376671143731, 60.089588933514406, 5.611889294155662, 11.220817443839923, 7.482238017252499, 4.667102175925178, 4.678110003511545, 5.614500023220405, 28.932772433094073, 40.117580824743364, 5.61294188386548, 39.226612338352226, 11.18399703244097, 35.39704891699604, 27.92273583730867, 17.685286559520353, 8.387475617412404, 32.251811216825466, 9.24871283356779, 17.462364270969548, 12.048563755641542, 5.496564020790612, 4.58095805573885, 7.280964860040718, 4.6195666314717, 12.048563755641542, 27.92273583730867, 5.582996805907023, 8.387475617412404, 4.633367340882262, 4.633367700942671, 17.462364270969548, 6.4550803414903095, 39.226612338352226, 13.744990187149696, 7.368563609789137, 13.670475988717598, 11.220817443839923, 32.251811216825466, 10.151514095970317, 4.575039307087126, 4.667102175925178, 5.611889294155662, 24.527556651195106, 35.39704891699604, 10.319376671143731, 10.319376671143731, 7.482238017252499, 17.685286559520353, 40.117580824743364, 9.24871283356779, 9.953267117076125, 31.000599522337204, 60.089588933514406, 39.48675238774116, 75.31953122667773, 19.883459432524806, 8.061066758990108, 7.168141661881425, 6.275575499179865, 5.383358764825875, 4.489734264605792, 19.883459432524806, 8.102695252280352, 7.235055916202263, 9.953267117076125, 13.5803552243505, 5.491515116017335, 4.55755894683745, 6.442197520859674, 4.597672225974983, 5.52253267256347, 24.527556651195106, 6.409538388709432, 17.462364270969548, 9.24871283356779, 4.630905726732059, 7.280964860040718, 7.368563609789137, 4.565071975354343, 4.586034242127131, 5.540889917116225, 32.251811216825466, 13.670475988717598, 6.49696764267814, 8.205260957170603, 35.39704891699604, 40.117580824743364, 32.92218389755311, 75.31953122667773, 7.4029196219639894, 6.476618061549464, 6.476565541084559, 4.623907131182946, 4.623907150991672, 4.62390718929785, 11.162254594727413, 6.409538388709432, 6.4550803414903095, 7.457010915683498, 5.591179484555281, 5.540889917116225, 4.55755894683745, 6.49696764267814, 5.61294188386548, 7.235055916202263, 5.614500023220405, 13.5803552243505, 4.565071975354343, 4.633367340882262, 4.633367700942671, 4.678110003511545, 24.527556651195106, 13.744990187149696, 7.482238017252499, 40.117580824743364, 32.251811216825466, 10.341370135587313, 35.39704891699604, 19.883459432524806, 60.089588933514406, 39.226612338352226, 31.000599522337204, 39.48675238774116, 28.932772433094073, 4.573105766469082, 8.205260957170603, 4.575039307087126, 13.670475988717598, 13.744990187149696, 4.565071975354343, 10.151514095970317, 4.586034242127131, 11.18399703244097, 28.932772433094073, 17.685286559520353, 8.102695252280352, 24.527556651195106, 13.5803552243505, 9.953267117076125, 32.251811216825466, 4.633367700942671, 4.633367340882262, 4.6195666314717, 4.489734264605792, 4.55755894683745, 4.58095805573885, 4.62390718929785, 4.623907150991672, 4.623907131182946, 4.597672225974983, 4.630905726732059, 4.667102175925178, 4.678110003511545, 4.69628506036467, 40.117580824743364, 39.48675238774116, 60.089588933514406, 5.383358764825875, 8.387475617412404, 8.061066758990108, 5.61294188386548, 19.883459432524806, 31.000599522337204, 39.226612338352226, 27.92273583730867], \"Category\": [\"Default\", \"Default\", \"Default\", \"Default\", \"Default\", \"Default\", \"Default\", \"Default\", \"Default\", \"Default\", \"Default\", \"Default\", \"Default\", \"Default\", \"Default\", \"Default\", \"Default\", \"Default\", \"Default\", \"Default\", \"Default\", \"Default\", \"Default\", \"Default\", \"Default\", \"Default\", \"Default\", \"Default\", \"Default\", \"Default\", \"Topic1\", \"Topic1\", \"Topic1\", \"Topic1\", \"Topic1\", \"Topic1\", \"Topic1\", \"Topic1\", \"Topic1\", \"Topic1\", \"Topic1\", \"Topic1\", \"Topic1\", \"Topic1\", \"Topic1\", \"Topic1\", \"Topic1\", \"Topic1\", \"Topic1\", \"Topic1\", \"Topic1\", \"Topic1\", \"Topic1\", \"Topic1\", \"Topic1\", \"Topic1\", \"Topic1\", \"Topic1\", \"Topic1\", \"Topic1\", \"Topic1\", \"Topic1\", \"Topic1\", \"Topic1\", \"Topic1\", \"Topic1\", \"Topic1\", \"Topic1\", \"Topic2\", \"Topic2\", \"Topic2\", \"Topic2\", \"Topic2\", \"Topic2\", \"Topic2\", \"Topic2\", \"Topic2\", \"Topic2\", \"Topic2\", \"Topic2\", \"Topic2\", \"Topic2\", \"Topic2\", \"Topic2\", \"Topic2\", \"Topic2\", \"Topic2\", \"Topic2\", \"Topic2\", \"Topic2\", \"Topic2\", \"Topic2\", \"Topic2\", \"Topic2\", \"Topic2\", \"Topic2\", \"Topic2\", \"Topic2\", \"Topic2\", \"Topic2\", \"Topic2\", \"Topic2\", \"Topic2\", \"Topic2\", \"Topic3\", \"Topic3\", \"Topic3\", \"Topic3\", \"Topic3\", \"Topic3\", \"Topic3\", \"Topic3\", \"Topic3\", \"Topic3\", \"Topic3\", \"Topic3\", \"Topic3\", \"Topic3\", \"Topic3\", \"Topic3\", \"Topic3\", \"Topic3\", \"Topic3\", \"Topic3\", \"Topic3\", \"Topic3\", \"Topic3\", \"Topic3\", \"Topic3\", \"Topic3\", \"Topic3\", \"Topic3\", \"Topic3\", \"Topic3\", \"Topic3\", \"Topic3\", \"Topic3\", \"Topic4\", \"Topic4\", \"Topic4\", \"Topic4\", \"Topic4\", \"Topic4\", \"Topic4\", \"Topic4\", \"Topic4\", \"Topic4\", \"Topic4\", \"Topic4\", \"Topic4\", \"Topic4\", \"Topic4\", \"Topic4\", \"Topic4\", \"Topic4\", \"Topic4\", \"Topic4\", \"Topic4\", \"Topic4\", \"Topic4\", \"Topic4\", \"Topic4\", \"Topic4\", \"Topic4\", \"Topic4\", \"Topic4\", \"Topic4\", \"Topic4\", \"Topic4\", \"Topic4\", \"Topic4\", \"Topic4\", \"Topic5\", \"Topic5\", \"Topic5\", \"Topic5\", \"Topic5\", \"Topic5\", \"Topic5\", \"Topic5\", \"Topic5\", \"Topic5\", \"Topic5\", \"Topic5\", \"Topic5\", \"Topic5\", \"Topic5\", \"Topic5\", \"Topic5\", \"Topic5\", \"Topic5\", \"Topic5\", \"Topic5\", \"Topic5\", \"Topic5\", \"Topic5\", \"Topic5\", \"Topic5\", \"Topic5\", \"Topic5\", \"Topic5\", \"Topic5\", \"Topic5\", \"Topic5\", \"Topic5\", \"Topic5\", \"Topic5\", \"Topic5\", \"Topic5\", \"Topic5\", \"Topic5\", \"Topic5\", \"Topic5\"], \"logprob\": [30.0, 29.0, 28.0, 27.0, 26.0, 25.0, 24.0, 23.0, 22.0, 21.0, 20.0, 19.0, 18.0, 17.0, 16.0, 15.0, 14.0, 13.0, 12.0, 11.0, 10.0, 9.0, 8.0, 7.0, 6.0, 5.0, 4.0, 3.0, 2.0, 1.0, -2.9795, -3.0092, -3.0398, -3.0713, -3.506, -2.2141, -3.0426, -4.4076, -4.6873, -4.8631, -4.865, -4.873, -5.0769, -2.952, -4.3138, -3.2321, -4.3498, -4.3498, -2.6062, -5.0767, -4.408, -4.8649, -5.3507, -5.3493, -5.1854, -3.5537, -3.2313, -5.2127, -3.2712, -4.5388, -3.3991, -3.7481, -4.1626, -4.8635, -4.1353, -4.8122, -4.6082, -4.7954, -3.3723, -3.5851, -3.3827, -3.979, -3.1775, -2.4143, -4.2308, -3.8587, -4.4858, -4.4858, -3.1927, -4.2333, -2.5026, -3.5781, -4.2309, -3.6479, -3.8566, -2.8256, -4.0336, -4.8401, -4.8364, -4.8373, -3.4841, -3.1214, -4.4831, -4.4831, -4.8383, -4.0818, -3.2959, -4.8383, -4.7679, -3.6946, -3.1254, -3.8631, -3.6852, -4.6475, -2.9128, -3.0421, -3.193, -3.372, -3.581, -2.2724, -3.192, -3.3666, -3.1255, -2.8737, -3.8883, -4.2376, -3.929, -4.2719, -4.1045, -2.6567, -4.2281, -3.2806, -3.9411, -4.6342, -4.2034, -4.228, -4.8396, -4.8536, -4.8336, -3.1679, -4.1316, -4.9731, -4.7753, -3.6101, -3.7636, -4.1892, -4.1925, -2.8993, -3.0484, -3.0489, -3.4382, -3.4382, -3.4382, -2.7674, -3.4376, -3.4377, -3.4362, -3.8007, -3.8225, -4.0827, -3.8932, -4.3234, -4.0864, -4.3878, -3.5682, -4.69, -4.6892, -4.6892, -4.6895, -3.2449, -4.0021, -4.6889, -3.1144, -3.3631, -4.5417, -3.3544, -4.0064, -3.0569, -3.5773, -4.0575, -4.0643, -4.4602, -3.0993, -2.57, -3.3705, -2.4257, -2.4575, -3.7426, -2.9784, -3.7738, -3.0984, -2.3123, -2.8173, -3.7457, -2.6657, -3.6614, -3.9977, -3.0554, -5.9954, -5.9954, -6.0441, -6.1433, -6.1432, -6.1417, -6.136, -6.136, -6.136, -6.1432, -6.1432, -6.1432, -6.1432, -6.1433, -4.1261, -4.3333, -4.2894, -6.1095, -6.1033, -6.1153, -6.1338, -6.0949, -6.1044, -6.1231, -6.1344], \"loglift\": [30.0, 29.0, 28.0, 27.0, 26.0, 25.0, 24.0, 23.0, 22.0, 21.0, 20.0, 19.0, 18.0, 17.0, 16.0, 15.0, 14.0, 13.0, 12.0, 11.0, 10.0, 9.0, 8.0, 7.0, 6.0, 5.0, 4.0, 3.0, 2.0, 1.0, 0.5397, 0.539, 0.5383, 0.5376, 0.5246, 0.4808, 0.4799, 0.472, 0.4444, 0.4235, 0.4216, 0.4138, 0.3929, 0.3887, 0.3666, 0.3505, 0.3328, 0.3328, 0.3146, 0.215, 0.1908, 0.1391, 0.1254, 0.1245, 0.1059, 0.0979, 0.0935, 0.0789, 0.076, 0.0633, 0.0509, -0.0609, -0.0187, 0.0264, -0.5923, -0.0201, -0.4516, -0.2677, 1.9402, 1.9096, 1.6487, 1.5073, 1.3502, 1.2728, 1.0661, 1.0312, 0.9975, 0.9975, 0.9638, 0.9184, 0.8447, 0.8179, 0.7885, 0.7535, 0.7422, 0.7174, 0.6654, 0.6559, 0.6397, 0.4544, 0.3327, 0.3286, 0.1995, 0.1995, 0.1658, 0.0621, 0.0288, -0.0462, -0.0492, -0.112, -0.2046, -0.5224, -0.9904, -0.6208, 2.0167, 2.0049, 1.9869, 1.9613, 1.9338, 1.7543, 1.7324, 1.671, 1.5932, 1.5343, 1.4251, 1.2622, 1.2248, 1.2192, 1.2033, 1.1601, 0.9307, 0.8759, 0.851, 0.8496, 0.828, 0.7914, 0.6586, 0.64, 0.4709, 0.3751, 0.2698, 0.1721, 0.1365, -0.1601, -0.4388, -0.6667, -1.4976, 2.1155, 2.1, 2.0995, 2.0472, 2.0472, 2.0472, 1.8367, 1.7212, 1.714, 1.5712, 1.4947, 1.4819, 1.4172, 1.2521, 0.9681, 0.9513, 0.9034, 0.8398, 0.8082, 0.7942, 0.7942, 0.7842, 0.5719, 0.3938, 0.3152, 0.2104, 0.1799, 0.1388, 0.0956, 0.0203, -0.1361, -0.2301, -0.4749, -0.7236, -0.8086, 2.3972, 2.3418, 2.1254, 1.9757, 1.9384, 1.7556, 1.7206, 1.7198, 1.5038, 1.3393, 1.3266, 1.1787, 1.1511, 0.7466, 0.721, 0.4876, -0.5121, -0.5121, -0.5578, -0.6285, -0.6434, -0.647, -0.6506, -0.6506, -0.6506, -0.6522, -0.6593, -0.6671, -0.6695, -0.6734, -0.8013, -0.9926, -1.3687, -0.7762, -1.2134, -1.1857, -0.8423, -2.0682, -2.5218, -2.7759, -2.4473]}, \"token.table\": {\"Topic\": [1, 2, 3, 1, 4, 3, 4, 1, 1, 3, 4, 3, 5, 1, 2, 1, 3, 5, 1, 2, 4, 2, 4, 3, 1, 3, 4, 1, 4, 1, 3, 4, 3, 4, 5, 1, 2, 3, 4, 5, 1, 2, 5, 1, 2, 1, 3, 2, 1, 3, 5, 1, 2, 3, 4, 3, 4, 1, 2, 4, 1, 3, 5, 2, 3, 1, 4, 1, 2, 4, 1, 1, 4, 1, 3, 1, 2, 1, 1, 1, 2, 3, 5, 1, 1, 2, 5, 1, 2, 2, 1, 2, 4, 1, 1, 4, 1, 2, 2, 5, 4, 3, 1, 4, 1, 4, 3, 3, 1, 2, 4, 5, 3, 4, 5, 1, 2, 4, 1, 2, 3, 4, 5, 2, 3, 4, 5, 4, 1, 3, 1, 2, 3, 1, 1, 2, 3, 1, 4, 1, 2, 1, 3, 4, 1, 3, 1, 2, 1, 2, 2, 4, 5, 3, 1, 2, 4, 1, 2, 4, 5, 1, 2, 3, 1, 4, 1, 2, 3, 4, 1, 5, 1, 2, 3, 2, 3, 5, 1, 2, 4, 5], \"Freq\": [0.4149872218303889, 0.49798466619646664, 0.08299744436607778, 0.9592229714381081, 0.8650692663680839, 0.43883140587524955, 0.43883140587524955, 0.8864543894791896, 0.18047642435756123, 0.18047642435756123, 0.5414292730726836, 0.12187302819736609, 0.8531111973815626, 0.5961269192389659, 0.35767615154337956, 0.6478214364594812, 0.21594047881982706, 0.8746790921235177, 0.6682492575712013, 0.13364985151424028, 0.13364985151424028, 0.3098334790885426, 0.6196669581770852, 0.9287881819560888, 0.4350027365371571, 0.4350027365371571, 0.8650692735346417, 0.9688138235928239, 0.865069277240581, 0.4617538773462874, 0.15391795911542916, 0.3078359182308583, 0.5890862107682909, 0.2209073290381091, 0.14727155269207273, 0.3100601058579648, 0.24804808468637182, 0.18603606351477886, 0.12402404234318591, 0.12402404234318591, 0.5654417849744592, 0.11308835699489184, 0.2827208924872296, 0.7752406230475676, 0.1938101557618919, 0.9112396702889963, 0.060749311352599755, 0.8731797915043017, 0.8866506379096035, 0.7404943433250081, 0.2468314477750027, 0.1005861181645512, 0.0502930590822756, 0.7041028271518583, 0.1005861181645512, 0.6910796623980398, 0.2764318649592159, 0.8064360168901403, 0.09677232202681683, 0.06451488135121122, 0.2180533217161876, 0.2180533217161876, 0.4361066434323752, 0.6867221715958176, 0.27468886863832703, 0.2687629075775673, 0.7167010868735129, 0.6118295353416225, 0.28042187036491034, 0.07647869191770282, 0.9440462478612386, 0.35770627745445716, 0.5365594161816858, 0.364198214472089, 0.5462973217081335, 0.5371966446052148, 0.4297573156841718, 0.96616472470114, 0.9111338187335694, 0.10046952304579165, 0.10046952304579165, 0.6028171382747499, 0.2009390460915833, 0.8517370535615223, 0.2955224187878399, 0.19701494585855994, 0.3940298917171199, 0.7127724355086055, 0.17819310887715137, 0.9096591945600249, 0.642797154833084, 0.21426571827769467, 0.9455728763056467, 0.9603693300616573, 0.4023059686945657, 0.5364079582594209, 0.7752406230475676, 0.1938101557618919, 0.21857735701875058, 0.6557320710562518, 0.9264169353245278, 0.8683714214614644, 0.7124409980330986, 0.3562204990165493, 0.5344790774733591, 0.3563193849822394, 0.9560876131255406, 0.8909213250177087, 0.7821654438675347, 0.09985090772777039, 0.09985090772777039, 0.0166418179546284, 0.21905459659754425, 0.21905459659754425, 0.4381091931950885, 0.43165147449728514, 0.43165147449728514, 0.21582573724864257, 0.6231681842734825, 0.1246336368546965, 0.0747801821128179, 0.1246336368546965, 0.0249267273709393, 0.16308187794176798, 0.366934225368978, 0.20385234742721, 0.244622816912652, 0.9264094227851629, 0.543229017893243, 0.3621526785954953, 0.34359608509454526, 0.34359608509454526, 0.2863300709121211, 0.886403774993008, 0.40713498028496353, 0.27142332018997567, 0.27142332018997567, 0.6412846208721258, 0.21376154029070857, 0.2164705219721921, 0.6494115659165763, 0.9633552048176705, 0.3120349514596951, 0.6240699029193902, 0.46567960548959814, 0.46567960548959814, 0.7129605342961792, 0.2673602003610672, 0.5373458205861564, 0.3582305470574376, 0.2910151222763064, 0.1455075611381532, 0.5092764639835361, 0.8370370289843264, 0.43165150804105473, 0.43165150804105473, 0.21582575402052737, 0.8357233250269778, 0.07597484772972525, 0.050649898486483505, 0.025324949243241753, 0.5406157689157267, 0.10812315378314533, 0.324369461349436, 0.870290868811347, 0.096698985423483, 0.593269796282841, 0.16950565608081172, 0.11300377072054114, 0.11300377072054114, 0.6258943005524216, 0.3576538860299552, 0.9160970451653663, 0.03983030631153767, 0.02655353754102511, 0.2926013697914576, 0.1463006848957288, 0.5852027395829152, 0.6221318762874976, 0.03456288201597208, 0.03456288201597208, 0.27650305612777665], \"Term\": [\"1\", \"1\", \"1\", \"2\", \"2-bromo-lsd\", \"2022\", \"2022\", \"2b\", \"3\", \"3\", \"3\", \"5-ht2a\", \"5-ht2a\", \"5-meo-dmt\", \"5-meo-dmt\", \"acquired\", \"acquired\", \"agonist\", \"alcohol\", \"alcohol\", \"alcohol\", \"analog\", \"analog\", \"anxiety\", \"befound\", \"befound\", \"bol-148\", \"clinical\", \"commonly\", \"completed\", \"completed\", \"completed\", \"compounds\", \"compounds\", \"compounds\", \"currently\", \"currently\", \"currently\", \"currently\", \"currently\", \"depression\", \"depression\", \"depression\", \"depressive\", \"depressive\", \"details\", \"details\", \"deuterated\", \"developed\", \"developing\", \"developing\", \"development\", \"development\", \"development\", \"development\", \"discovery\", \"discovery\", \"disorder\", \"disorder\", \"disorder\", \"disorders\", \"disorders\", \"disorders\", \"dmt\", \"dmt\", \"drug\", \"drug\", \"evaluated\", \"evaluated\", \"evaluated\", \"evaluating\", \"fda\", \"fda\", \"form\", \"form\", \"formulation\", \"formulation\", \"found\", \"ii\", \"including\", \"including\", \"including\", \"including\", \"inhaled\", \"intended\", \"intended\", \"intended\", \"intranasal\", \"intranasal\", \"iv\", \"ketamine\", \"ketamine\", \"known\", \"link\", \"lsd\", \"lsd\", \"major\", \"major\", \"molecule\", \"molecule\", \"non-hallucinogenic\", \"number\", \"one\", \"one\", \"opioid\", \"opioid\", \"pharma\", \"pharmaceuticals\", \"phase\", \"phase\", \"phase\", \"phase\", \"portfolio\", \"portfolio\", \"portfolio\", \"post-traumatic\", \"post-traumatic\", \"post-traumatic\", \"potential\", \"potential\", \"potential\", \"potential\", \"potential\", \"preclinical\", \"preclinical\", \"preclinical\", \"preclinical\", \"program\", \"programs\", \"programs\", \"psilocybin\", \"psilocybin\", \"psilocybin\", \"psilocybin-assisted\", \"psychedelic\", \"psychedelic\", \"psychedelic\", \"psychotherapy\", \"psychotherapy\", \"ptsd\", \"ptsd\", \"registration\", \"research\", \"research\", \"results\", \"results\", \"set\", \"set\", \"short-acting\", \"short-acting\", \"stage\", \"stage\", \"stage\", \"stages\", \"stress\", \"stress\", \"stress\", \"study\", \"study\", \"study\", \"study\", \"synthetic\", \"synthetic\", \"synthetic\", \"therapy\", \"therapy\", \"treatment\", \"treatment\", \"treatment\", \"treatment\", \"treatment-resistant\", \"treatment-resistant\", \"trial\", \"trial\", \"trial\", \"unknown\", \"unknown\", \"unknown\", \"use\", \"use\", \"use\", \"use\"]}, \"R\": 30, \"lambda.step\": 0.01, \"plot.opts\": {\"xlab\": \"PC1\", \"ylab\": \"PC2\"}, \"topic.order\": [4, 5, 1, 3, 2]};\n",
       "\n",
       "function LDAvis_load_lib(url, callback){\n",
       "  var s = document.createElement('script');\n",
       "  s.src = url;\n",
       "  s.async = true;\n",
       "  s.onreadystatechange = s.onload = callback;\n",
       "  s.onerror = function(){console.warn(\"failed to load library \" + url);};\n",
       "  document.getElementsByTagName(\"head\")[0].appendChild(s);\n",
       "}\n",
       "\n",
       "if(typeof(LDAvis) !== \"undefined\"){\n",
       "   // already loaded: just create the visualization\n",
       "   !function(LDAvis){\n",
       "       new LDAvis(\"#\" + \"ldavis_el2904813333011131209308958912\", ldavis_el2904813333011131209308958912_data);\n",
       "   }(LDAvis);\n",
       "}else if(typeof define === \"function\" && define.amd){\n",
       "   // require.js is available: use it to load d3/LDAvis\n",
       "   require.config({paths: {d3: \"https://d3js.org/d3.v5\"}});\n",
       "   require([\"d3\"], function(d3){\n",
       "      window.d3 = d3;\n",
       "      LDAvis_load_lib(\"https://cdn.jsdelivr.net/gh/bmabey/pyLDAvis@3.4.0/pyLDAvis/js/ldavis.v3.0.0.js\", function(){\n",
       "        new LDAvis(\"#\" + \"ldavis_el2904813333011131209308958912\", ldavis_el2904813333011131209308958912_data);\n",
       "      });\n",
       "    });\n",
       "}else{\n",
       "    // require.js not available: dynamically load d3 & LDAvis\n",
       "    LDAvis_load_lib(\"https://d3js.org/d3.v5.js\", function(){\n",
       "         LDAvis_load_lib(\"https://cdn.jsdelivr.net/gh/bmabey/pyLDAvis@3.4.0/pyLDAvis/js/ldavis.v3.0.0.js\", function(){\n",
       "                 new LDAvis(\"#\" + \"ldavis_el2904813333011131209308958912\", ldavis_el2904813333011131209308958912_data);\n",
       "            })\n",
       "         });\n",
       "}\n",
       "</script>"
      ],
      "text/plain": [
       "PreparedData(topic_coordinates=              x         y  topics  cluster       Freq\n",
       "topic                                                \n",
       "3     -0.222398  0.008634       1        1  57.001587\n",
       "4     -0.080092  0.038503       2        1  12.433128\n",
       "0      0.177510 -0.070617       3        1  12.076201\n",
       "2      0.011145 -0.144770       4        1  10.858785\n",
       "1      0.113835  0.168249       5        1   7.630298, topic_info=           Term       Freq      Total Category  logprob  loglift\n",
       "28          use  28.000000  28.000000  Default  30.0000  30.0000\n",
       "18  formulation  27.000000  27.000000  Default  29.0000  29.0000\n",
       "17    evaluated  39.000000  39.000000  Default  28.0000  28.0000\n",
       "46  development  19.000000  19.000000  Default  27.0000  27.0000\n",
       "53  preclinical  24.000000  24.000000  Default  26.0000  26.0000\n",
       "..          ...        ...        ...      ...      ...      ...\n",
       "58       opioid   0.184473   5.612942   Topic5  -6.1338  -0.8423\n",
       "46  development   0.191791  19.883459   Topic5  -6.0949  -2.0682\n",
       "3      disorder   0.189985  31.000600   Topic5  -6.1044  -2.5218\n",
       "17    evaluated   0.186460  39.226612   Topic5  -6.1231  -2.7759\n",
       "18  formulation   0.184360  27.922736   Topic5  -6.1344  -2.4473\n",
       "\n",
       "[213 rows x 6 columns], token_table=      Topic      Freq         Term\n",
       "term                              \n",
       "55        1  0.414987            1\n",
       "55        2  0.497985            1\n",
       "55        3  0.082997            1\n",
       "29        1  0.959223            2\n",
       "69        4  0.865069  2-bromo-lsd\n",
       "...     ...       ...          ...\n",
       "67        5  0.585203      unknown\n",
       "28        1  0.622132          use\n",
       "28        2  0.034563          use\n",
       "28        4  0.034563          use\n",
       "28        5  0.276503          use\n",
       "\n",
       "[182 rows x 3 columns], R=30, lambda_step=0.01, plot_opts={'xlab': 'PC1', 'ylab': 'PC2'}, topic_order=[4, 5, 1, 3, 2])"
      ]
     },
     "execution_count": 32,
     "metadata": {},
     "output_type": "execute_result"
    }
   ],
   "source": [
    "vis = pyLDAvis.gensim_models.prepare(lda_model, doc_term_matrix, dictionary)\n",
    "vis"
   ]
  },
  {
   "cell_type": "code",
   "execution_count": null,
   "metadata": {},
   "outputs": [],
   "source": []
  }
 ],
 "metadata": {
  "kernelspec": {
   "display_name": "base",
   "language": "python",
   "name": "python3"
  },
  "language_info": {
   "codemirror_mode": {
    "name": "ipython",
    "version": 3
   },
   "file_extension": ".py",
   "mimetype": "text/x-python",
   "name": "python",
   "nbconvert_exporter": "python",
   "pygments_lexer": "ipython3",
   "version": "3.9.12"
  },
  "orig_nbformat": 4
 },
 "nbformat": 4,
 "nbformat_minor": 2
}
